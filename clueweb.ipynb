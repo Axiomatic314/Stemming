{
 "cells": [
  {
   "cell_type": "code",
   "execution_count": null,
   "metadata": {},
   "outputs": [],
   "source": [
    "import numpy as np\n",
    "import matplotlib.pyplot as plt\n",
    "import seaborn as sns\n",
    "import pandas as pd\n",
    "import itertools\n",
    "from os import path"
   ]
  },
  {
   "cell_type": "code",
   "execution_count": null,
   "metadata": {},
   "outputs": [],
   "source": [
    "labels = [\"paiceHusk\", \"krovetz\", \"sStripper\", \"porter2\", \"lovins\", \"wikt\", \"none\"]\n",
    "data_dir_2013 = path.join(\"Data\", \"clueweb-2013\")"
   ]
  }
 ],
 "metadata": {
  "kernelspec": {
   "display_name": "cosc490",
   "language": "python",
   "name": "python3"
  },
  "language_info": {
   "name": "python",
   "version": "3.10.11"
  },
  "orig_nbformat": 4
 },
 "nbformat": 4,
 "nbformat_minor": 2
}
