{
 "cells": [
  {
   "cell_type": "code",
   "execution_count": 1,
   "metadata": {},
   "outputs": [],
   "source": [
    "import numpy as np\n",
    "import matplotlib.pyplot as plt\n",
    "import seaborn as sns\n",
    "from os import path\n",
    "import pandas as pd\n",
    "import matplotlib.ticker as ticker\n",
    "from scipy import stats\n",
    "\n",
    "data_dir = path.join(\"/home/katelyn/Documents/COSC490/Stemming/Data\",\"pre-trec\")\n",
    "labels = [\"paiceHusk\", \"krovetz\", \"sStripping\", \"porter2\", \"lovins\", \"wikt\", \"none\"]"
   ]
  },
  {
   "cell_type": "markdown",
   "metadata": {},
   "source": [
    "## ADI"
   ]
  },
  {
   "cell_type": "code",
   "execution_count": 35,
   "metadata": {},
   "outputs": [
    {
     "data": {
      "text/html": [
       "<div>\n",
       "<style scoped>\n",
       "    .dataframe tbody tr th:only-of-type {\n",
       "        vertical-align: middle;\n",
       "    }\n",
       "\n",
       "    .dataframe tbody tr th {\n",
       "        vertical-align: top;\n",
       "    }\n",
       "\n",
       "    .dataframe thead th {\n",
       "        text-align: right;\n",
       "    }\n",
       "</style>\n",
       "<table border=\"1\" class=\"dataframe\">\n",
       "  <thead>\n",
       "    <tr style=\"text-align: right;\">\n",
       "      <th></th>\n",
       "      <th>stemmer</th>\n",
       "      <th>map</th>\n",
       "    </tr>\n",
       "  </thead>\n",
       "  <tbody>\n",
       "    <tr>\n",
       "      <th>0</th>\n",
       "      <td>paiceHusk</td>\n",
       "      <td>0.4081</td>\n",
       "    </tr>\n",
       "    <tr>\n",
       "      <th>1</th>\n",
       "      <td>krovetz</td>\n",
       "      <td>0.4063</td>\n",
       "    </tr>\n",
       "    <tr>\n",
       "      <th>2</th>\n",
       "      <td>sStripping</td>\n",
       "      <td>0.3426</td>\n",
       "    </tr>\n",
       "    <tr>\n",
       "      <th>3</th>\n",
       "      <td>porter2</td>\n",
       "      <td>0.4016</td>\n",
       "    </tr>\n",
       "    <tr>\n",
       "      <th>4</th>\n",
       "      <td>lovins</td>\n",
       "      <td>0.3964</td>\n",
       "    </tr>\n",
       "    <tr>\n",
       "      <th>5</th>\n",
       "      <td>wikt</td>\n",
       "      <td>0.4139</td>\n",
       "    </tr>\n",
       "    <tr>\n",
       "      <th>6</th>\n",
       "      <td>none</td>\n",
       "      <td>0.3443</td>\n",
       "    </tr>\n",
       "  </tbody>\n",
       "</table>\n",
       "</div>"
      ],
      "text/plain": [
       "      stemmer     map\n",
       "0   paiceHusk  0.4081\n",
       "1     krovetz  0.4063\n",
       "2  sStripping  0.3426\n",
       "3     porter2  0.4016\n",
       "4      lovins  0.3964\n",
       "5        wikt  0.4139\n",
       "6        none  0.3443"
      ]
     },
     "metadata": {},
     "output_type": "display_data"
    },
    {
     "data": {
      "image/png": "[encoded data removed]",
      "text/plain": [
       "<Figure size 640x480 with 1 Axes>"
      ]
     },
     "metadata": {},
     "output_type": "display_data"
    }
   ],
   "source": [
    "values = list()\n",
    "chunks = list()\n",
    "with pd.read_csv(path.join(data_dir,\"adi-MAP\"),sep= \"\\t\",chunksize=36, names=[\"qid\", \"map\"]) as reader:\n",
    "    for chunk, stemmer in zip(reader,labels):\n",
    "        values+=(chunk[chunk[\"qid\"]==\"all\"].loc[:,\"map\"].tolist())\n",
    "        chunk = chunk.drop(chunk[chunk[\"qid\"]==\"all\"].index)\n",
    "        chunk[\"stemmer\"] = stemmer\n",
    "        chunks.append(chunk)\n",
    "data = pd.concat(chunks)\n",
    "data_avg = {\n",
    "    \"stemmer\" : labels,\n",
    "    \"map\" : values\n",
    "}\n",
    "data_avg = pd.DataFrame(data=data_avg)\n",
    "display(data_avg)\n",
    "\n",
    "sns.barplot(x=\"stemmer\", y=\"map\", data=data_avg)\n",
    "plt.title(\"MAP for Various Stemmers on the ADI Collection\")\n",
    "plt.xlabel(\"Stemmer\")\n",
    "plt.ylabel(\"MAP\")\n",
    "plt.show()"
   ]
  },
  {
   "cell_type": "code",
   "execution_count": 82,
   "metadata": {},
   "outputs": [
    {
     "name": "stdout",
     "output_type": "stream",
     "text": [
      "TtestResult(statistic=1.7449239074138156, pvalue=0.09003208489551869, df=34)\n"
     ]
    }
   ],
   "source": [
    "#t-test between wikt and none\n",
    "w = data[data[\"stemmer\"] == \"wikt\"].loc[:,\"map\"].tolist()\n",
    "n = data[data[\"stemmer\"] == \"none\"].loc[:,\"map\"].tolist()\n",
    "print(f\"{stats.ttest_rel(w,n)}\")"
   ]
  },
  {
   "cell_type": "code",
   "execution_count": 5,
   "metadata": {},
   "outputs": [
    {
     "name": "stdout",
     "output_type": "stream",
     "text": [
      "TtestResult(statistic=1.8777308713624616, pvalue=0.06901797270318381, df=34)\n"
     ]
    }
   ],
   "source": [
    "#t-test between wikt and sStripping (best and worst)\n",
    "w = data[data[\"stemmer\"] == \"wikt\"].loc[:,\"map\"].tolist()\n",
    "s = data[data[\"stemmer\"] == \"sStripping\"].loc[:,\"map\"].tolist()\n",
    "print(f\"{stats.ttest_rel(w,s)}\")"
   ]
  },
  {
   "cell_type": "code",
   "execution_count": 6,
   "metadata": {},
   "outputs": [
    {
     "name": "stdout",
     "output_type": "stream",
     "text": [
      "TtestResult(statistic=0.49684293752056796, pvalue=0.622497308964628, df=34)\n"
     ]
    }
   ],
   "source": [
    "#t-test between wikt and porter2\n",
    "w = data[data[\"stemmer\"] == \"wikt\"].loc[:,\"map\"].tolist()\n",
    "p = data[data[\"stemmer\"] == \"porter2\"].loc[:,\"map\"].tolist()\n",
    "print(f\"{stats.ttest_rel(w,p)}\")"
   ]
  },
  {
   "cell_type": "code",
   "execution_count": 38,
   "metadata": {},
   "outputs": [
    {
     "name": "stdout",
     "output_type": "stream",
     "text": [
      "TtestResult(statistic=1.7082984754165358, pvalue=0.09669695781996546, df=34)\n"
     ]
    }
   ],
   "source": [
    "#t-test between porter2 and sStripping\n",
    "p = data[data[\"stemmer\"] == \"porter2\"].loc[:,\"map\"].tolist()\n",
    "s = data[data[\"stemmer\"] == \"sStripping\"].loc[:,\"map\"].tolist()\n",
    "print(f\"{stats.ttest_rel(p,s)}\")"
   ]
  },
  {
   "cell_type": "markdown",
   "metadata": {},
   "source": [
    "## CACM"
   ]
  },
  {
   "cell_type": "code",
   "execution_count": 39,
   "metadata": {},
   "outputs": [
    {
     "data": {
      "text/html": [
       "<div>\n",
       "<style scoped>\n",
       "    .dataframe tbody tr th:only-of-type {\n",
       "        vertical-align: middle;\n",
       "    }\n",
       "\n",
       "    .dataframe tbody tr th {\n",
       "        vertical-align: top;\n",
       "    }\n",
       "\n",
       "    .dataframe thead th {\n",
       "        text-align: right;\n",
       "    }\n",
       "</style>\n",
       "<table border=\"1\" class=\"dataframe\">\n",
       "  <thead>\n",
       "    <tr style=\"text-align: right;\">\n",
       "      <th></th>\n",
       "      <th>stemmer</th>\n",
       "      <th>map</th>\n",
       "    </tr>\n",
       "  </thead>\n",
       "  <tbody>\n",
       "    <tr>\n",
       "      <th>0</th>\n",
       "      <td>paiceHusk</td>\n",
       "      <td>0.2975</td>\n",
       "    </tr>\n",
       "    <tr>\n",
       "      <th>1</th>\n",
       "      <td>krovetz</td>\n",
       "      <td>0.3050</td>\n",
       "    </tr>\n",
       "    <tr>\n",
       "      <th>2</th>\n",
       "      <td>sStripping</td>\n",
       "      <td>0.2918</td>\n",
       "    </tr>\n",
       "    <tr>\n",
       "      <th>3</th>\n",
       "      <td>porter2</td>\n",
       "      <td>0.2900</td>\n",
       "    </tr>\n",
       "    <tr>\n",
       "      <th>4</th>\n",
       "      <td>lovins</td>\n",
       "      <td>0.2818</td>\n",
       "    </tr>\n",
       "    <tr>\n",
       "      <th>5</th>\n",
       "      <td>wikt</td>\n",
       "      <td>0.2806</td>\n",
       "    </tr>\n",
       "    <tr>\n",
       "      <th>6</th>\n",
       "      <td>none</td>\n",
       "      <td>0.2661</td>\n",
       "    </tr>\n",
       "  </tbody>\n",
       "</table>\n",
       "</div>"
      ],
      "text/plain": [
       "      stemmer     map\n",
       "0   paiceHusk  0.2975\n",
       "1     krovetz  0.3050\n",
       "2  sStripping  0.2918\n",
       "3     porter2  0.2900\n",
       "4      lovins  0.2818\n",
       "5        wikt  0.2806\n",
       "6        none  0.2661"
      ]
     },
     "metadata": {},
     "output_type": "display_data"
    },
    {
     "data": {
      "image/png": "[encoded data removed]",
      "text/plain": [
       "<Figure size 640x480 with 1 Axes>"
      ]
     },
     "metadata": {},
     "output_type": "display_data"
    }
   ],
   "source": [
    "values = list()\n",
    "chunks = list()\n",
    "with pd.read_csv(path.join(data_dir,\"cacm-MAP\"),sep= \"\\t\",chunksize=53, names=[\"qid\", \"map\"]) as reader:\n",
    "    for chunk, stemmer in zip(reader,labels):\n",
    "        values+=(chunk[chunk[\"qid\"]==\"all\"].loc[:,\"map\"].tolist())\n",
    "        chunk = chunk.drop(chunk[chunk[\"qid\"]==\"all\"].index)\n",
    "        chunk[\"stemmer\"] = stemmer\n",
    "        chunks.append(chunk)\n",
    "data = pd.concat(chunks)\n",
    "data_avg = {\n",
    "    \"stemmer\" : labels,\n",
    "    \"map\" : values\n",
    "}\n",
    "data_avg = pd.DataFrame(data=data_avg)\n",
    "display(data_avg)\n",
    "\n",
    "sns.barplot(x=\"stemmer\", y=\"map\", data=data_avg)\n",
    "plt.title(\"MAP for Various Stemmers on the CACM Collection\")\n",
    "plt.xlabel(\"Stemmer\")\n",
    "plt.ylabel(\"MAP\")\n",
    "plt.show()"
   ]
  },
  {
   "cell_type": "code",
   "execution_count": 40,
   "metadata": {},
   "outputs": [
    {
     "name": "stdout",
     "output_type": "stream",
     "text": [
      "TtestResult(statistic=0.9801145478974522, pvalue=0.33165628288764526, df=51)\n"
     ]
    }
   ],
   "source": [
    "#t-test between wikt and none\n",
    "w = data[data[\"stemmer\"] == \"wikt\"].loc[:,\"map\"].tolist()\n",
    "n = data[data[\"stemmer\"] == \"none\"].loc[:,\"map\"].tolist()\n",
    "print(f\"{stats.ttest_rel(w,n)}\")"
   ]
  },
  {
   "cell_type": "code",
   "execution_count": 44,
   "metadata": {},
   "outputs": [
    {
     "name": "stdout",
     "output_type": "stream",
     "text": [
      "TtestResult(statistic=2.5617223013679267, pvalue=0.01341420172365411, df=51)\n"
     ]
    }
   ],
   "source": [
    "#t-test between krovetz and none (best and worst)\n",
    "k = data[data[\"stemmer\"] == \"krovetz\"].loc[:,\"map\"].tolist()\n",
    "n = data[data[\"stemmer\"] == \"none\"].loc[:,\"map\"].tolist()\n",
    "print(f\"{stats.ttest_rel(k,n)}\")"
   ]
  },
  {
   "cell_type": "code",
   "execution_count": 43,
   "metadata": {},
   "outputs": [
    {
     "name": "stdout",
     "output_type": "stream",
     "text": [
      "TtestResult(statistic=-0.9247125376501915, pvalue=0.35947033018070984, df=51)\n"
     ]
    }
   ],
   "source": [
    "#t-test between wikt and porter2 \n",
    "w = data[data[\"stemmer\"] == \"wikt\"].loc[:,\"map\"].tolist()\n",
    "p = data[data[\"stemmer\"] == \"porter2\"].loc[:,\"map\"].tolist()\n",
    "print(f\"{stats.ttest_rel(w,p)}\")"
   ]
  },
  {
   "cell_type": "markdown",
   "metadata": {},
   "source": [
    "## CISI"
   ]
  },
  {
   "cell_type": "code",
   "execution_count": 48,
   "metadata": {},
   "outputs": [
    {
     "data": {
      "text/html": [
       "<div>\n",
       "<style scoped>\n",
       "    .dataframe tbody tr th:only-of-type {\n",
       "        vertical-align: middle;\n",
       "    }\n",
       "\n",
       "    .dataframe tbody tr th {\n",
       "        vertical-align: top;\n",
       "    }\n",
       "\n",
       "    .dataframe thead th {\n",
       "        text-align: right;\n",
       "    }\n",
       "</style>\n",
       "<table border=\"1\" class=\"dataframe\">\n",
       "  <thead>\n",
       "    <tr style=\"text-align: right;\">\n",
       "      <th></th>\n",
       "      <th>stemmer</th>\n",
       "      <th>map</th>\n",
       "    </tr>\n",
       "  </thead>\n",
       "  <tbody>\n",
       "    <tr>\n",
       "      <th>0</th>\n",
       "      <td>paiceHusk</td>\n",
       "      <td>0.1872</td>\n",
       "    </tr>\n",
       "    <tr>\n",
       "      <th>1</th>\n",
       "      <td>krovetz</td>\n",
       "      <td>0.1860</td>\n",
       "    </tr>\n",
       "    <tr>\n",
       "      <th>2</th>\n",
       "      <td>sStripping</td>\n",
       "      <td>0.1822</td>\n",
       "    </tr>\n",
       "    <tr>\n",
       "      <th>3</th>\n",
       "      <td>porter2</td>\n",
       "      <td>0.1876</td>\n",
       "    </tr>\n",
       "    <tr>\n",
       "      <th>4</th>\n",
       "      <td>lovins</td>\n",
       "      <td>0.1856</td>\n",
       "    </tr>\n",
       "    <tr>\n",
       "      <th>5</th>\n",
       "      <td>wikt</td>\n",
       "      <td>0.1817</td>\n",
       "    </tr>\n",
       "    <tr>\n",
       "      <th>6</th>\n",
       "      <td>none</td>\n",
       "      <td>0.1662</td>\n",
       "    </tr>\n",
       "  </tbody>\n",
       "</table>\n",
       "</div>"
      ],
      "text/plain": [
       "      stemmer     map\n",
       "0   paiceHusk  0.1872\n",
       "1     krovetz  0.1860\n",
       "2  sStripping  0.1822\n",
       "3     porter2  0.1876\n",
       "4      lovins  0.1856\n",
       "5        wikt  0.1817\n",
       "6        none  0.1662"
      ]
     },
     "metadata": {},
     "output_type": "display_data"
    },
    {
     "data": {
      "image/png": "[encoded data removed]",
      "text/plain": [
       "<Figure size 640x480 with 1 Axes>"
      ]
     },
     "metadata": {},
     "output_type": "display_data"
    }
   ],
   "source": [
    "values = list()\n",
    "chunks = list()\n",
    "with pd.read_csv(path.join(data_dir,\"cisi-MAP\"),sep= \"\\t\",chunksize=77, names=[\"qid\", \"map\"]) as reader:\n",
    "    for chunk, stemmer in zip(reader,labels):\n",
    "        values+=(chunk[chunk[\"qid\"]==\"all\"].loc[:,\"map\"].tolist())\n",
    "        chunk = chunk.drop(chunk[chunk[\"qid\"]==\"all\"].index)\n",
    "        chunk[\"stemmer\"] = stemmer\n",
    "        chunks.append(chunk)\n",
    "data = pd.concat(chunks)\n",
    "data_avg = {\n",
    "    \"stemmer\" : labels,\n",
    "    \"map\" : values\n",
    "}\n",
    "data_avg = pd.DataFrame(data=data_avg)\n",
    "display(data_avg)\n",
    "\n",
    "sns.barplot(x=\"stemmer\", y=\"map\", data=data_avg)\n",
    "plt.title(\"MAP for Various Stemmers on the CISI Collection\")\n",
    "plt.xlabel(\"Stemmer\")\n",
    "plt.ylabel(\"MAP\")\n",
    "plt.show()"
   ]
  },
  {
   "cell_type": "code",
   "execution_count": 49,
   "metadata": {},
   "outputs": [
    {
     "name": "stdout",
     "output_type": "stream",
     "text": [
      "TtestResult(statistic=2.7604937098538325, pvalue=0.007250902787154485, df=75)\n"
     ]
    }
   ],
   "source": [
    "#t-test between wikt and none (worst stemmer and no stemming)\n",
    "w = data[data[\"stemmer\"] == \"wikt\"].loc[:,\"map\"].tolist()\n",
    "n = data[data[\"stemmer\"] == \"none\"].loc[:,\"map\"].tolist()\n",
    "print(f\"{stats.ttest_rel(w,n)}\")"
   ]
  },
  {
   "cell_type": "code",
   "execution_count": 51,
   "metadata": {},
   "outputs": [
    {
     "name": "stdout",
     "output_type": "stream",
     "text": [
      "TtestResult(statistic=-1.809967346154518, pvalue=0.0743068232552188, df=75)\n"
     ]
    }
   ],
   "source": [
    "#t-test between wikt and porter2\n",
    "w = data[data[\"stemmer\"] == \"wikt\"].loc[:,\"map\"].tolist()\n",
    "p = data[data[\"stemmer\"] == \"porter2\"].loc[:,\"map\"].tolist()\n",
    "print(f\"{stats.ttest_rel(w,p)}\")"
   ]
  },
  {
   "cell_type": "markdown",
   "metadata": {},
   "source": [
    "## Cranfield"
   ]
  },
  {
   "cell_type": "code",
   "execution_count": 52,
   "metadata": {},
   "outputs": [
    {
     "data": {
      "text/html": [
       "<div>\n",
       "<style scoped>\n",
       "    .dataframe tbody tr th:only-of-type {\n",
       "        vertical-align: middle;\n",
       "    }\n",
       "\n",
       "    .dataframe tbody tr th {\n",
       "        vertical-align: top;\n",
       "    }\n",
       "\n",
       "    .dataframe thead th {\n",
       "        text-align: right;\n",
       "    }\n",
       "</style>\n",
       "<table border=\"1\" class=\"dataframe\">\n",
       "  <thead>\n",
       "    <tr style=\"text-align: right;\">\n",
       "      <th></th>\n",
       "      <th>stemmer</th>\n",
       "      <th>map</th>\n",
       "    </tr>\n",
       "  </thead>\n",
       "  <tbody>\n",
       "    <tr>\n",
       "      <th>0</th>\n",
       "      <td>paiceHusk</td>\n",
       "      <td>0.2905</td>\n",
       "    </tr>\n",
       "    <tr>\n",
       "      <th>1</th>\n",
       "      <td>krovetz</td>\n",
       "      <td>0.2916</td>\n",
       "    </tr>\n",
       "    <tr>\n",
       "      <th>2</th>\n",
       "      <td>sStripping</td>\n",
       "      <td>0.2752</td>\n",
       "    </tr>\n",
       "    <tr>\n",
       "      <th>3</th>\n",
       "      <td>porter2</td>\n",
       "      <td>0.2914</td>\n",
       "    </tr>\n",
       "    <tr>\n",
       "      <th>4</th>\n",
       "      <td>lovins</td>\n",
       "      <td>0.2861</td>\n",
       "    </tr>\n",
       "    <tr>\n",
       "      <th>5</th>\n",
       "      <td>wikt</td>\n",
       "      <td>0.2854</td>\n",
       "    </tr>\n",
       "    <tr>\n",
       "      <th>6</th>\n",
       "      <td>none</td>\n",
       "      <td>0.2661</td>\n",
       "    </tr>\n",
       "  </tbody>\n",
       "</table>\n",
       "</div>"
      ],
      "text/plain": [
       "      stemmer     map\n",
       "0   paiceHusk  0.2905\n",
       "1     krovetz  0.2916\n",
       "2  sStripping  0.2752\n",
       "3     porter2  0.2914\n",
       "4      lovins  0.2861\n",
       "5        wikt  0.2854\n",
       "6        none  0.2661"
      ]
     },
     "metadata": {},
     "output_type": "display_data"
    },
    {
     "data": {
      "image/png": "[encoded data removed]",
      "text/plain": [
       "<Figure size 640x480 with 1 Axes>"
      ]
     },
     "metadata": {},
     "output_type": "display_data"
    }
   ],
   "source": [
    "values = list()\n",
    "chunks = list()\n",
    "with pd.read_csv(path.join(data_dir,\"cran-MAP\"),sep= \"\\t\",chunksize=226, names=[\"qid\", \"map\"]) as reader:\n",
    "    for chunk, stemmer in zip(reader,labels):\n",
    "        values+=(chunk[chunk[\"qid\"]==\"all\"].loc[:,\"map\"].tolist())\n",
    "        chunk = chunk.drop(chunk[chunk[\"qid\"]==\"all\"].index)\n",
    "        chunk[\"stemmer\"] = stemmer\n",
    "        chunks.append(chunk)\n",
    "data = pd.concat(chunks)\n",
    "data_avg = {\n",
    "    \"stemmer\" : labels,\n",
    "    \"map\" : values\n",
    "}\n",
    "data_avg = pd.DataFrame(data=data_avg)\n",
    "display(data_avg)\n",
    "\n",
    "sns.barplot(x=\"stemmer\", y=\"map\", data=data_avg)\n",
    "plt.title(\"MAP for Various Stemmers on the Cranfield Collection\")\n",
    "plt.xlabel(\"Stemmer\")\n",
    "plt.ylabel(\"MAP\")\n",
    "plt.show()"
   ]
  },
  {
   "cell_type": "code",
   "execution_count": 53,
   "metadata": {},
   "outputs": [
    {
     "name": "stdout",
     "output_type": "stream",
     "text": [
      "TtestResult(statistic=2.355900288033643, pvalue=0.019340979097582447, df=224)\n"
     ]
    }
   ],
   "source": [
    "#t-test between wikt and none\n",
    "w = data[data[\"stemmer\"] == \"wikt\"].loc[:,\"map\"].tolist()\n",
    "n = data[data[\"stemmer\"] == \"none\"].loc[:,\"map\"].tolist()\n",
    "print(f\"{stats.ttest_rel(w,n)}\")"
   ]
  },
  {
   "cell_type": "code",
   "execution_count": 54,
   "metadata": {},
   "outputs": [
    {
     "name": "stdout",
     "output_type": "stream",
     "text": [
      "TtestResult(statistic=3.269729724571371, pvalue=0.001246146666425315, df=224)\n"
     ]
    }
   ],
   "source": [
    "#t-test between krovetz and none (best and worst)\n",
    "k = data[data[\"stemmer\"] == \"krovetz\"].loc[:,\"map\"].tolist()\n",
    "n = data[data[\"stemmer\"] == \"none\"].loc[:,\"map\"].tolist()\n",
    "print(f\"{stats.ttest_rel(k,n)}\")"
   ]
  },
  {
   "cell_type": "code",
   "execution_count": 56,
   "metadata": {},
   "outputs": [
    {
     "name": "stdout",
     "output_type": "stream",
     "text": [
      "TtestResult(statistic=2.7013970100529523, pvalue=0.0074330307056552775, df=224)\n"
     ]
    }
   ],
   "source": [
    "#t-test between krovetz and sStripper (best and second worst)\n",
    "k = data[data[\"stemmer\"] == \"krovetz\"].loc[:,\"map\"].tolist()\n",
    "s = data[data[\"stemmer\"] == \"sStripping\"].loc[:,\"map\"].tolist()\n",
    "print(f\"{stats.ttest_rel(k,s)}\")"
   ]
  },
  {
   "cell_type": "code",
   "execution_count": 57,
   "metadata": {},
   "outputs": [
    {
     "name": "stdout",
     "output_type": "stream",
     "text": [
      "TtestResult(statistic=1.682373518184574, pvalue=0.09388982413960291, df=224)\n"
     ]
    }
   ],
   "source": [
    "#t-test between sStripper and none (two lowest)\n",
    "s = data[data[\"stemmer\"] == \"sStripping\"].loc[:,\"map\"].tolist()\n",
    "n = data[data[\"stemmer\"] == \"none\"].loc[:,\"map\"].tolist()\n",
    "print(f\"{stats.ttest_rel(s,n)}\")"
   ]
  },
  {
   "cell_type": "markdown",
   "metadata": {},
   "source": [
    "## CysticFibrosis"
   ]
  },
  {
   "cell_type": "code",
   "execution_count": 61,
   "metadata": {},
   "outputs": [
    {
     "data": {
      "text/html": [
       "<div>\n",
       "<style scoped>\n",
       "    .dataframe tbody tr th:only-of-type {\n",
       "        vertical-align: middle;\n",
       "    }\n",
       "\n",
       "    .dataframe tbody tr th {\n",
       "        vertical-align: top;\n",
       "    }\n",
       "\n",
       "    .dataframe thead th {\n",
       "        text-align: right;\n",
       "    }\n",
       "</style>\n",
       "<table border=\"1\" class=\"dataframe\">\n",
       "  <thead>\n",
       "    <tr style=\"text-align: right;\">\n",
       "      <th></th>\n",
       "      <th>stemmer</th>\n",
       "      <th>map</th>\n",
       "    </tr>\n",
       "  </thead>\n",
       "  <tbody>\n",
       "    <tr>\n",
       "      <th>0</th>\n",
       "      <td>paiceHusk</td>\n",
       "      <td>0.2892</td>\n",
       "    </tr>\n",
       "    <tr>\n",
       "      <th>1</th>\n",
       "      <td>krovetz</td>\n",
       "      <td>0.2885</td>\n",
       "    </tr>\n",
       "    <tr>\n",
       "      <th>2</th>\n",
       "      <td>sStripping</td>\n",
       "      <td>0.2780</td>\n",
       "    </tr>\n",
       "    <tr>\n",
       "      <th>3</th>\n",
       "      <td>porter2</td>\n",
       "      <td>0.2875</td>\n",
       "    </tr>\n",
       "    <tr>\n",
       "      <th>4</th>\n",
       "      <td>lovins</td>\n",
       "      <td>0.2888</td>\n",
       "    </tr>\n",
       "    <tr>\n",
       "      <th>5</th>\n",
       "      <td>wikt</td>\n",
       "      <td>0.2927</td>\n",
       "    </tr>\n",
       "    <tr>\n",
       "      <th>6</th>\n",
       "      <td>none</td>\n",
       "      <td>0.2690</td>\n",
       "    </tr>\n",
       "  </tbody>\n",
       "</table>\n",
       "</div>"
      ],
      "text/plain": [
       "      stemmer     map\n",
       "0   paiceHusk  0.2892\n",
       "1     krovetz  0.2885\n",
       "2  sStripping  0.2780\n",
       "3     porter2  0.2875\n",
       "4      lovins  0.2888\n",
       "5        wikt  0.2927\n",
       "6        none  0.2690"
      ]
     },
     "metadata": {},
     "output_type": "display_data"
    },
    {
     "data": {
      "image/png": "[encoded data removed]",
      "text/plain": [
       "<Figure size 640x480 with 1 Axes>"
      ]
     },
     "metadata": {},
     "output_type": "display_data"
    }
   ],
   "source": [
    "values = list()\n",
    "chunks = list()\n",
    "with pd.read_csv(path.join(data_dir,\"cf-MAP\"),sep= \"\\t\",chunksize=101, names=[\"qid\", \"map\"]) as reader:\n",
    "    for chunk, stemmer in zip(reader,labels):\n",
    "        values+=(chunk[chunk[\"qid\"]==\"all\"].loc[:,\"map\"].tolist())\n",
    "        chunk = chunk.drop(chunk[chunk[\"qid\"]==\"all\"].index)\n",
    "        chunk[\"stemmer\"] = stemmer\n",
    "        chunks.append(chunk)\n",
    "data = pd.concat(chunks)\n",
    "data_avg = {\n",
    "    \"stemmer\" : labels,\n",
    "    \"map\" : values\n",
    "}\n",
    "data_avg = pd.DataFrame(data=data_avg)\n",
    "display(data_avg)\n",
    "\n",
    "sns.barplot(x=\"stemmer\", y=\"map\", data=data_avg)\n",
    "plt.title(\"MAP for Various Stemmers on the CysticFibrosis Collection\")\n",
    "plt.xlabel(\"Stemmer\")\n",
    "plt.ylabel(\"MAP\")\n",
    "plt.show()"
   ]
  },
  {
   "cell_type": "markdown",
   "metadata": {},
   "source": [
    "### Statistical Significance"
   ]
  },
  {
   "cell_type": "code",
   "execution_count": 62,
   "metadata": {},
   "outputs": [
    {
     "name": "stdout",
     "output_type": "stream",
     "text": [
      "TtestResult(statistic=4.548887307426953, pvalue=1.5317996324202444e-05, df=99)\n"
     ]
    }
   ],
   "source": [
    "#t-test between wikt and none (best and worst)\n",
    "w = data[data[\"stemmer\"] == \"wikt\"].loc[:,\"map\"].tolist()\n",
    "n = data[data[\"stemmer\"] == \"none\"].loc[:,\"map\"].tolist()\n",
    "print(f\"{stats.ttest_rel(w,n)}\")"
   ]
  },
  {
   "cell_type": "code",
   "execution_count": 63,
   "metadata": {},
   "outputs": [
    {
     "name": "stdout",
     "output_type": "stream",
     "text": [
      "TtestResult(statistic=3.5212979047052957, pvalue=0.0006510418165336274, df=99)\n"
     ]
    }
   ],
   "source": [
    "#t-test between wikt and sStripping (best and second worst)\n",
    "w = data[data[\"stemmer\"] == \"wikt\"].loc[:,\"map\"].tolist()\n",
    "s = data[data[\"stemmer\"] == \"sStripping\"].loc[:,\"map\"].tolist()\n",
    "print(f\"{stats.ttest_rel(w,s)}\")"
   ]
  },
  {
   "cell_type": "code",
   "execution_count": 28,
   "metadata": {},
   "outputs": [
    {
     "name": "stdout",
     "output_type": "stream",
     "text": [
      "TtestResult(statistic=1.969272915256034, pvalue=0.05171682719913949, df=99)\n"
     ]
    }
   ],
   "source": [
    "#t-test between wikt and porter2 (best and average)\n",
    "w = data[data[\"stemmer\"] == \"wikt\"].loc[:,\"map\"].tolist()\n",
    "p = data[data[\"stemmer\"] == \"porter2\"].loc[:,\"map\"].tolist()\n",
    "print(f\"{stats.ttest_rel(w,p)}\")"
   ]
  },
  {
   "cell_type": "markdown",
   "metadata": {},
   "source": [
    "### Tuning BM25"
   ]
  },
  {
   "cell_type": "code",
   "execution_count": 10,
   "metadata": {},
   "outputs": [
    {
     "data": {
      "text/html": [
       "<div>\n",
       "<style scoped>\n",
       "    .dataframe tbody tr th:only-of-type {\n",
       "        vertical-align: middle;\n",
       "    }\n",
       "\n",
       "    .dataframe tbody tr th {\n",
       "        vertical-align: top;\n",
       "    }\n",
       "\n",
       "    .dataframe thead th {\n",
       "        text-align: right;\n",
       "    }\n",
       "</style>\n",
       "<table border=\"1\" class=\"dataframe\">\n",
       "  <thead>\n",
       "    <tr style=\"text-align: right;\">\n",
       "      <th></th>\n",
       "      <th>stemmer</th>\n",
       "      <th>defaultMAP</th>\n",
       "      <th>tunedMAP</th>\n",
       "    </tr>\n",
       "  </thead>\n",
       "  <tbody>\n",
       "    <tr>\n",
       "      <th>0</th>\n",
       "      <td>paiceHusk</td>\n",
       "      <td>0.299347</td>\n",
       "      <td>0.300242</td>\n",
       "    </tr>\n",
       "    <tr>\n",
       "      <th>1</th>\n",
       "      <td>krovetz</td>\n",
       "      <td>0.295711</td>\n",
       "      <td>0.297918</td>\n",
       "    </tr>\n",
       "    <tr>\n",
       "      <th>2</th>\n",
       "      <td>sStripping</td>\n",
       "      <td>0.288334</td>\n",
       "      <td>0.292490</td>\n",
       "    </tr>\n",
       "    <tr>\n",
       "      <th>3</th>\n",
       "      <td>porter2</td>\n",
       "      <td>0.297990</td>\n",
       "      <td>0.302762</td>\n",
       "    </tr>\n",
       "    <tr>\n",
       "      <th>4</th>\n",
       "      <td>lovins</td>\n",
       "      <td>0.296446</td>\n",
       "      <td>0.303783</td>\n",
       "    </tr>\n",
       "    <tr>\n",
       "      <th>5</th>\n",
       "      <td>wikt</td>\n",
       "      <td>0.301400</td>\n",
       "      <td>0.300106</td>\n",
       "    </tr>\n",
       "    <tr>\n",
       "      <th>6</th>\n",
       "      <td>none</td>\n",
       "      <td>0.280867</td>\n",
       "      <td>0.285235</td>\n",
       "    </tr>\n",
       "  </tbody>\n",
       "</table>\n",
       "</div>"
      ],
      "text/plain": [
       "      stemmer   defaultMAP   tunedMAP\n",
       "0   paiceHusk     0.299347   0.300242\n",
       "1     krovetz     0.295711   0.297918\n",
       "2  sStripping     0.288334   0.292490\n",
       "3     porter2     0.297990   0.302762\n",
       "4      lovins     0.296446   0.303783\n",
       "5        wikt     0.301400   0.300106\n",
       "6        none     0.280867   0.285235"
      ]
     },
     "metadata": {},
     "output_type": "display_data"
    },
    {
     "data": {
      "image/png": "[encoded data removed]",
      "text/plain": [
       "<Figure size 640x480 with 1 Axes>"
      ]
     },
     "metadata": {},
     "output_type": "display_data"
    },
    {
     "data": {
      "image/png": "[encoded data removed]",
      "text/plain": [
       "<Figure size 640x480 with 1 Axes>"
      ]
     },
     "metadata": {},
     "output_type": "display_data"
    }
   ],
   "source": [
    "data = pd.read_csv(path.join(\"BM25\",\"cf.csv\"))\n",
    "display(data)\n",
    "data = data.melt(id_vars=\"stemmer\").rename({\"variable\":\"measure\"}, axis=1)\n",
    "\n",
    "sns.barplot(data=data, y=\"value\", x=\"measure\", hue=\"stemmer\")\n",
    "plt.legend(bbox_to_anchor=(1.02,1),loc=\"upper left\",borderaxespad=0)\n",
    "plt.show()\n",
    "\n",
    "sns.barplot(data=data, y=\"value\", hue=\"measure\", x=\"stemmer\")\n",
    "plt.legend(bbox_to_anchor=(1.02,1),loc=\"upper left\",borderaxespad=0)\n",
    "plt.show()"
   ]
  },
  {
   "cell_type": "markdown",
   "metadata": {},
   "source": [
    "## LISA"
   ]
  },
  {
   "cell_type": "code",
   "execution_count": 89,
   "metadata": {},
   "outputs": [
    {
     "data": {
      "text/html": [
       "<div>\n",
       "<style scoped>\n",
       "    .dataframe tbody tr th:only-of-type {\n",
       "        vertical-align: middle;\n",
       "    }\n",
       "\n",
       "    .dataframe tbody tr th {\n",
       "        vertical-align: top;\n",
       "    }\n",
       "\n",
       "    .dataframe thead th {\n",
       "        text-align: right;\n",
       "    }\n",
       "</style>\n",
       "<table border=\"1\" class=\"dataframe\">\n",
       "  <thead>\n",
       "    <tr style=\"text-align: right;\">\n",
       "      <th></th>\n",
       "      <th>stemmer</th>\n",
       "      <th>map</th>\n",
       "    </tr>\n",
       "  </thead>\n",
       "  <tbody>\n",
       "    <tr>\n",
       "      <th>0</th>\n",
       "      <td>paiceHusk</td>\n",
       "      <td>0.3301</td>\n",
       "    </tr>\n",
       "    <tr>\n",
       "      <th>1</th>\n",
       "      <td>krovetz</td>\n",
       "      <td>0.2997</td>\n",
       "    </tr>\n",
       "    <tr>\n",
       "      <th>2</th>\n",
       "      <td>sStripping</td>\n",
       "      <td>0.2713</td>\n",
       "    </tr>\n",
       "    <tr>\n",
       "      <th>3</th>\n",
       "      <td>porter2</td>\n",
       "      <td>0.2982</td>\n",
       "    </tr>\n",
       "    <tr>\n",
       "      <th>4</th>\n",
       "      <td>lovins</td>\n",
       "      <td>0.2919</td>\n",
       "    </tr>\n",
       "    <tr>\n",
       "      <th>5</th>\n",
       "      <td>wikt</td>\n",
       "      <td>0.3053</td>\n",
       "    </tr>\n",
       "    <tr>\n",
       "      <th>6</th>\n",
       "      <td>none</td>\n",
       "      <td>0.2680</td>\n",
       "    </tr>\n",
       "  </tbody>\n",
       "</table>\n",
       "</div>"
      ],
      "text/plain": [
       "      stemmer     map\n",
       "0   paiceHusk  0.3301\n",
       "1     krovetz  0.2997\n",
       "2  sStripping  0.2713\n",
       "3     porter2  0.2982\n",
       "4      lovins  0.2919\n",
       "5        wikt  0.3053\n",
       "6        none  0.2680"
      ]
     },
     "metadata": {},
     "output_type": "display_data"
    },
    {
     "data": {
      "image/png": "[encoded data removed]",
      "text/plain": [
       "<Figure size 640x480 with 1 Axes>"
      ]
     },
     "metadata": {},
     "output_type": "display_data"
    }
   ],
   "source": [
    "values = list()\n",
    "chunks = list()\n",
    "with pd.read_csv(path.join(data_dir,\"lisa-MAP\"),sep= \"\\t\",chunksize=32, names=[\"qid\", \"map\"]) as reader:\n",
    "    for chunk, stemmer in zip(reader,labels):\n",
    "        values+=(chunk[chunk[\"qid\"]==\"all\"].loc[:,\"map\"].tolist())\n",
    "        chunk = chunk.drop(chunk[chunk[\"qid\"]==\"all\"].index)\n",
    "        chunk[\"stemmer\"] = stemmer\n",
    "        chunks.append(chunk)\n",
    "data = pd.concat(chunks)\n",
    "data_avg = {\n",
    "    \"stemmer\" : labels,\n",
    "    \"map\" : values\n",
    "}\n",
    "data_avg = pd.DataFrame(data=data_avg)\n",
    "display(data_avg)\n",
    "\n",
    "sns.barplot(x=\"stemmer\", y=\"map\", data=data_avg)\n",
    "plt.title(\"MAP for Various Stemmers on the LISA Collection\")\n",
    "plt.xlabel(\"Stemmer\")\n",
    "plt.ylabel(\"MAP\")\n",
    "plt.show()"
   ]
  },
  {
   "cell_type": "code",
   "execution_count": 88,
   "metadata": {},
   "outputs": [
    {
     "name": "stdout",
     "output_type": "stream",
     "text": [
      "TtestResult(statistic=2.355485351636764, pvalue=0.02523149470362905, df=30)\n"
     ]
    }
   ],
   "source": [
    "#t-test between wikt and none\n",
    "w = data[data[\"stemmer\"] == \"wikt\"].loc[:,\"map\"].tolist()\n",
    "n = data[data[\"stemmer\"] == \"none\"].loc[:,\"map\"].tolist()\n",
    "print(f\"{stats.ttest_rel(w,n)}\")"
   ]
  },
  {
   "cell_type": "code",
   "execution_count": 86,
   "metadata": {},
   "outputs": [
    {
     "name": "stdout",
     "output_type": "stream",
     "text": [
      "TtestResult(statistic=1.787347987324497, pvalue=0.0839891476638431, df=30)\n"
     ]
    }
   ],
   "source": [
    "#t-test between paiceHusk and none (best and worst)\n",
    "p = data[data[\"stemmer\"] == \"paiceHusk\"].loc[:,\"map\"].tolist()\n",
    "n = data[data[\"stemmer\"] == \"none\"].loc[:,\"map\"].tolist()\n",
    "print(f\"{stats.ttest_rel(p,n)}\")"
   ]
  },
  {
   "cell_type": "code",
   "execution_count": 67,
   "metadata": {},
   "outputs": [
    {
     "name": "stdout",
     "output_type": "stream",
     "text": [
      "TtestResult(statistic=0.6318687851203411, pvalue=0.5322586317131052, df=30)\n"
     ]
    }
   ],
   "source": [
    "#t-test between wikt and porter2\n",
    "w = data[data[\"stemmer\"] == \"wikt\"].loc[:,\"map\"].tolist()\n",
    "p = data[data[\"stemmer\"] == \"porter2\"].loc[:,\"map\"].tolist()\n",
    "print(f\"{stats.ttest_rel(w,p)}\")"
   ]
  },
  {
   "cell_type": "markdown",
   "metadata": {},
   "source": [
    "## Medline"
   ]
  },
  {
   "cell_type": "code",
   "execution_count": 68,
   "metadata": {},
   "outputs": [
    {
     "data": {
      "text/html": [
       "<div>\n",
       "<style scoped>\n",
       "    .dataframe tbody tr th:only-of-type {\n",
       "        vertical-align: middle;\n",
       "    }\n",
       "\n",
       "    .dataframe tbody tr th {\n",
       "        vertical-align: top;\n",
       "    }\n",
       "\n",
       "    .dataframe thead th {\n",
       "        text-align: right;\n",
       "    }\n",
       "</style>\n",
       "<table border=\"1\" class=\"dataframe\">\n",
       "  <thead>\n",
       "    <tr style=\"text-align: right;\">\n",
       "      <th></th>\n",
       "      <th>stemmer</th>\n",
       "      <th>map</th>\n",
       "    </tr>\n",
       "  </thead>\n",
       "  <tbody>\n",
       "    <tr>\n",
       "      <th>0</th>\n",
       "      <td>paiceHusk</td>\n",
       "      <td>0.4973</td>\n",
       "    </tr>\n",
       "    <tr>\n",
       "      <th>1</th>\n",
       "      <td>krovetz</td>\n",
       "      <td>0.4987</td>\n",
       "    </tr>\n",
       "    <tr>\n",
       "      <th>2</th>\n",
       "      <td>sStripping</td>\n",
       "      <td>0.4944</td>\n",
       "    </tr>\n",
       "    <tr>\n",
       "      <th>3</th>\n",
       "      <td>porter2</td>\n",
       "      <td>0.5059</td>\n",
       "    </tr>\n",
       "    <tr>\n",
       "      <th>4</th>\n",
       "      <td>lovins</td>\n",
       "      <td>0.5105</td>\n",
       "    </tr>\n",
       "    <tr>\n",
       "      <th>5</th>\n",
       "      <td>wikt</td>\n",
       "      <td>0.5001</td>\n",
       "    </tr>\n",
       "    <tr>\n",
       "      <th>6</th>\n",
       "      <td>none</td>\n",
       "      <td>0.4793</td>\n",
       "    </tr>\n",
       "  </tbody>\n",
       "</table>\n",
       "</div>"
      ],
      "text/plain": [
       "      stemmer     map\n",
       "0   paiceHusk  0.4973\n",
       "1     krovetz  0.4987\n",
       "2  sStripping  0.4944\n",
       "3     porter2  0.5059\n",
       "4      lovins  0.5105\n",
       "5        wikt  0.5001\n",
       "6        none  0.4793"
      ]
     },
     "metadata": {},
     "output_type": "display_data"
    },
    {
     "data": {
      "image/png": "[encoded data removed]",
      "text/plain": [
       "<Figure size 640x480 with 1 Axes>"
      ]
     },
     "metadata": {},
     "output_type": "display_data"
    }
   ],
   "source": [
    "values = list()\n",
    "chunks = list()\n",
    "with pd.read_csv(path.join(data_dir,\"med-MAP\"),sep= \"\\t\",chunksize=31, names=[\"qid\", \"map\"]) as reader:\n",
    "    for chunk, stemmer in zip(reader,labels):\n",
    "        values+=(chunk[chunk[\"qid\"]==\"all\"].loc[:,\"map\"].tolist())\n",
    "        chunk = chunk.drop(chunk[chunk[\"qid\"]==\"all\"].index)\n",
    "        chunk[\"stemmer\"] = stemmer\n",
    "        chunks.append(chunk)\n",
    "data = pd.concat(chunks)\n",
    "data_avg = {\n",
    "    \"stemmer\" : labels,\n",
    "    \"map\" : values\n",
    "}\n",
    "data_avg = pd.DataFrame(data=data_avg)\n",
    "display(data_avg)\n",
    "\n",
    "sns.barplot(x=\"stemmer\", y=\"map\", data=data_avg)\n",
    "plt.title(\"MAP for Various Stemmers on the Medline Collection\")\n",
    "plt.xlabel(\"Stemmer\")\n",
    "plt.ylabel(\"MAP\")\n",
    "plt.show()"
   ]
  },
  {
   "cell_type": "code",
   "execution_count": 70,
   "metadata": {},
   "outputs": [
    {
     "name": "stdout",
     "output_type": "stream",
     "text": [
      "TtestResult(statistic=1.66139627043369, pvalue=0.10740854764248106, df=29)\n"
     ]
    }
   ],
   "source": [
    "#t-test between wikt and none\n",
    "w = data[data[\"stemmer\"] == \"wikt\"].loc[:,\"map\"].tolist()\n",
    "n = data[data[\"stemmer\"] == \"none\"].loc[:,\"map\"].tolist()\n",
    "print(f\"{stats.ttest_rel(w,n)}\")"
   ]
  },
  {
   "cell_type": "code",
   "execution_count": 72,
   "metadata": {},
   "outputs": [
    {
     "name": "stdout",
     "output_type": "stream",
     "text": [
      "TtestResult(statistic=2.1691689341699023, pvalue=0.038408626368699864, df=29)\n"
     ]
    }
   ],
   "source": [
    "#t-test between lovins and none (best and worst)\n",
    "l = data[data[\"stemmer\"] == \"lovins\"].loc[:,\"map\"].tolist()\n",
    "n = data[data[\"stemmer\"] == \"none\"].loc[:,\"map\"].tolist()\n",
    "print(f\"{stats.ttest_rel(l,n)}\")"
   ]
  },
  {
   "cell_type": "code",
   "execution_count": 73,
   "metadata": {},
   "outputs": [
    {
     "name": "stdout",
     "output_type": "stream",
     "text": [
      "TtestResult(statistic=1.1302132631164543, pvalue=0.2676478049568715, df=29)\n"
     ]
    }
   ],
   "source": [
    "#t-test between lovins and sStripping (best and lowest stemmer)\n",
    "l = data[data[\"stemmer\"] == \"lovins\"].loc[:,\"map\"].tolist()\n",
    "s = data[data[\"stemmer\"] == \"sStripping\"].loc[:,\"map\"].tolist()\n",
    "print(f\"{stats.ttest_rel(l,s)}\")"
   ]
  },
  {
   "cell_type": "markdown",
   "metadata": {},
   "source": [
    "## NPL"
   ]
  },
  {
   "cell_type": "code",
   "execution_count": 74,
   "metadata": {},
   "outputs": [
    {
     "data": {
      "text/html": [
       "<div>\n",
       "<style scoped>\n",
       "    .dataframe tbody tr th:only-of-type {\n",
       "        vertical-align: middle;\n",
       "    }\n",
       "\n",
       "    .dataframe tbody tr th {\n",
       "        vertical-align: top;\n",
       "    }\n",
       "\n",
       "    .dataframe thead th {\n",
       "        text-align: right;\n",
       "    }\n",
       "</style>\n",
       "<table border=\"1\" class=\"dataframe\">\n",
       "  <thead>\n",
       "    <tr style=\"text-align: right;\">\n",
       "      <th></th>\n",
       "      <th>stemmer</th>\n",
       "      <th>map</th>\n",
       "    </tr>\n",
       "  </thead>\n",
       "  <tbody>\n",
       "    <tr>\n",
       "      <th>0</th>\n",
       "      <td>paiceHusk</td>\n",
       "      <td>0.2752</td>\n",
       "    </tr>\n",
       "    <tr>\n",
       "      <th>1</th>\n",
       "      <td>krovetz</td>\n",
       "      <td>0.2790</td>\n",
       "    </tr>\n",
       "    <tr>\n",
       "      <th>2</th>\n",
       "      <td>sStripping</td>\n",
       "      <td>0.2670</td>\n",
       "    </tr>\n",
       "    <tr>\n",
       "      <th>3</th>\n",
       "      <td>porter2</td>\n",
       "      <td>0.2838</td>\n",
       "    </tr>\n",
       "    <tr>\n",
       "      <th>4</th>\n",
       "      <td>lovins</td>\n",
       "      <td>0.2748</td>\n",
       "    </tr>\n",
       "    <tr>\n",
       "      <th>5</th>\n",
       "      <td>wikt</td>\n",
       "      <td>0.2820</td>\n",
       "    </tr>\n",
       "    <tr>\n",
       "      <th>6</th>\n",
       "      <td>none</td>\n",
       "      <td>0.2215</td>\n",
       "    </tr>\n",
       "  </tbody>\n",
       "</table>\n",
       "</div>"
      ],
      "text/plain": [
       "      stemmer     map\n",
       "0   paiceHusk  0.2752\n",
       "1     krovetz  0.2790\n",
       "2  sStripping  0.2670\n",
       "3     porter2  0.2838\n",
       "4      lovins  0.2748\n",
       "5        wikt  0.2820\n",
       "6        none  0.2215"
      ]
     },
     "metadata": {},
     "output_type": "display_data"
    },
    {
     "data": {
      "image/png": "[encoded data removed]",
      "text/plain": [
       "<Figure size 640x480 with 1 Axes>"
      ]
     },
     "metadata": {},
     "output_type": "display_data"
    }
   ],
   "source": [
    "values = list()\n",
    "chunks = list()\n",
    "with pd.read_csv(path.join(data_dir,\"npl-MAP\"),sep= \"\\t\",chunksize=94, names=[\"qid\", \"map\"]) as reader:\n",
    "    for chunk, stemmer in zip(reader,labels):\n",
    "        values+=(chunk[chunk[\"qid\"]==\"all\"].loc[:,\"map\"].tolist())\n",
    "        chunk = chunk.drop(chunk[chunk[\"qid\"]==\"all\"].index)\n",
    "        chunk[\"stemmer\"] = stemmer\n",
    "        chunks.append(chunk)\n",
    "data = pd.concat(chunks)\n",
    "data_avg = {\n",
    "    \"stemmer\" : labels,\n",
    "    \"map\" : values\n",
    "}\n",
    "data_avg = pd.DataFrame(data=data_avg)\n",
    "display(data_avg)\n",
    "\n",
    "sns.barplot(x=\"stemmer\", y=\"map\", data=data_avg)\n",
    "plt.title(\"MAP for Various Stemmers on the NPL Collection\")\n",
    "plt.xlabel(\"Stemmer\")\n",
    "plt.ylabel(\"MAP\")\n",
    "plt.show()"
   ]
  },
  {
   "cell_type": "code",
   "execution_count": 75,
   "metadata": {},
   "outputs": [
    {
     "name": "stdout",
     "output_type": "stream",
     "text": [
      "TtestResult(statistic=4.975075546162294, pvalue=3.020791280254699e-06, df=92)\n"
     ]
    }
   ],
   "source": [
    "#t-test between wikt and none\n",
    "w = data[data[\"stemmer\"] == \"wikt\"].loc[:,\"map\"].tolist()\n",
    "n = data[data[\"stemmer\"] == \"none\"].loc[:,\"map\"].tolist()\n",
    "print(f\"{stats.ttest_rel(w,n)}\")"
   ]
  },
  {
   "cell_type": "code",
   "execution_count": 76,
   "metadata": {},
   "outputs": [
    {
     "name": "stdout",
     "output_type": "stream",
     "text": [
      "TtestResult(statistic=5.202035859073994, pvalue=1.188162173350786e-06, df=92)\n"
     ]
    }
   ],
   "source": [
    "#t-test between porter2 and none (best and worst)\n",
    "p = data[data[\"stemmer\"] == \"porter2\"].loc[:,\"map\"].tolist()\n",
    "n = data[data[\"stemmer\"] == \"none\"].loc[:,\"map\"].tolist()\n",
    "print(f\"{stats.ttest_rel(p,n)}\")"
   ]
  },
  {
   "cell_type": "code",
   "execution_count": 77,
   "metadata": {},
   "outputs": [
    {
     "name": "stdout",
     "output_type": "stream",
     "text": [
      "TtestResult(statistic=-0.37542841761287443, pvalue=0.7082060646014181, df=92)\n"
     ]
    }
   ],
   "source": [
    "#t-test between wikt and porter2\n",
    "w = data[data[\"stemmer\"] == \"wikt\"].loc[:,\"map\"].tolist()\n",
    "p = data[data[\"stemmer\"] == \"porter2\"].loc[:,\"map\"].tolist()\n",
    "print(f\"{stats.ttest_rel(w,p)}\")"
   ]
  },
  {
   "cell_type": "code",
   "execution_count": 78,
   "metadata": {},
   "outputs": [
    {
     "name": "stdout",
     "output_type": "stream",
     "text": [
      "TtestResult(statistic=1.6299697697626583, pvalue=0.10652712246507329, df=92)\n"
     ]
    }
   ],
   "source": [
    "#t-test between porter2 and sStripping (best and lowest stemmer)\n",
    "p = data[data[\"stemmer\"] == \"porter2\"].loc[:,\"map\"].tolist()\n",
    "s = data[data[\"stemmer\"] == \"sStripping\"].loc[:,\"map\"].tolist()\n",
    "print(f\"{stats.ttest_rel(p,s)}\")"
   ]
  },
  {
   "cell_type": "code",
   "execution_count": 79,
   "metadata": {},
   "outputs": [
    {
     "name": "stdout",
     "output_type": "stream",
     "text": [
      "TtestResult(statistic=5.173604716906251, pvalue=1.3369876183302565e-06, df=92)\n"
     ]
    }
   ],
   "source": [
    "#t-test between sStripping and none (lowest stemmer and none)\n",
    "s = data[data[\"stemmer\"] == \"sStripping\"].loc[:,\"map\"].tolist()\n",
    "n = data[data[\"stemmer\"] == \"none\"].loc[:,\"map\"].tolist()\n",
    "print(f\"{stats.ttest_rel(s,n)}\")"
   ]
  },
  {
   "cell_type": "markdown",
   "metadata": {},
   "source": [
    "## Time"
   ]
  },
  {
   "cell_type": "code",
   "execution_count": 80,
   "metadata": {},
   "outputs": [
    {
     "data": {
      "text/html": [
       "<div>\n",
       "<style scoped>\n",
       "    .dataframe tbody tr th:only-of-type {\n",
       "        vertical-align: middle;\n",
       "    }\n",
       "\n",
       "    .dataframe tbody tr th {\n",
       "        vertical-align: top;\n",
       "    }\n",
       "\n",
       "    .dataframe thead th {\n",
       "        text-align: right;\n",
       "    }\n",
       "</style>\n",
       "<table border=\"1\" class=\"dataframe\">\n",
       "  <thead>\n",
       "    <tr style=\"text-align: right;\">\n",
       "      <th></th>\n",
       "      <th>stemmer</th>\n",
       "      <th>map</th>\n",
       "    </tr>\n",
       "  </thead>\n",
       "  <tbody>\n",
       "    <tr>\n",
       "      <th>0</th>\n",
       "      <td>paiceHusk</td>\n",
       "      <td>0.5633</td>\n",
       "    </tr>\n",
       "    <tr>\n",
       "      <th>1</th>\n",
       "      <td>krovetz</td>\n",
       "      <td>0.5906</td>\n",
       "    </tr>\n",
       "    <tr>\n",
       "      <th>2</th>\n",
       "      <td>sStripping</td>\n",
       "      <td>0.5686</td>\n",
       "    </tr>\n",
       "    <tr>\n",
       "      <th>3</th>\n",
       "      <td>porter2</td>\n",
       "      <td>0.5710</td>\n",
       "    </tr>\n",
       "    <tr>\n",
       "      <th>4</th>\n",
       "      <td>lovins</td>\n",
       "      <td>0.5575</td>\n",
       "    </tr>\n",
       "    <tr>\n",
       "      <th>5</th>\n",
       "      <td>wikt</td>\n",
       "      <td>0.5751</td>\n",
       "    </tr>\n",
       "    <tr>\n",
       "      <th>6</th>\n",
       "      <td>none</td>\n",
       "      <td>0.5698</td>\n",
       "    </tr>\n",
       "  </tbody>\n",
       "</table>\n",
       "</div>"
      ],
      "text/plain": [
       "      stemmer     map\n",
       "0   paiceHusk  0.5633\n",
       "1     krovetz  0.5906\n",
       "2  sStripping  0.5686\n",
       "3     porter2  0.5710\n",
       "4      lovins  0.5575\n",
       "5        wikt  0.5751\n",
       "6        none  0.5698"
      ]
     },
     "metadata": {},
     "output_type": "display_data"
    },
    {
     "data": {
      "image/png": "[encoded data removed]",
      "text/plain": [
       "<Figure size 640x480 with 1 Axes>"
      ]
     },
     "metadata": {},
     "output_type": "display_data"
    }
   ],
   "source": [
    "values = list()\n",
    "chunks = list()\n",
    "with pd.read_csv(path.join(data_dir,\"time-MAP\"),sep= \"\\t\",chunksize=84, names=[\"qid\", \"map\"]) as reader:\n",
    "    for chunk, stemmer in zip(reader,labels):\n",
    "        values+=(chunk[chunk[\"qid\"]==\"all\"].loc[:,\"map\"].tolist())\n",
    "        chunk = chunk.drop(chunk[chunk[\"qid\"]==\"all\"].index)\n",
    "        chunk[\"stemmer\"] = stemmer\n",
    "        chunks.append(chunk)\n",
    "data = pd.concat(chunks)\n",
    "data_avg = {\n",
    "    \"stemmer\" : labels,\n",
    "    \"map\" : values\n",
    "}\n",
    "data_avg = pd.DataFrame(data=data_avg)\n",
    "display(data_avg)\n",
    "\n",
    "sns.barplot(x=\"stemmer\", y=\"map\", data=data_avg)\n",
    "plt.title(\"MAP for Various Stemmers on the Time Collection\")\n",
    "plt.xlabel(\"Stemmer\")\n",
    "plt.ylabel(\"MAP\")\n",
    "plt.show()"
   ]
  },
  {
   "cell_type": "code",
   "execution_count": 83,
   "metadata": {},
   "outputs": [
    {
     "name": "stdout",
     "output_type": "stream",
     "text": [
      "TtestResult(statistic=0.3984666364408729, pvalue=0.6913219051426911, df=82)\n"
     ]
    }
   ],
   "source": [
    "#t-test between wikt and none\n",
    "w = data[data[\"stemmer\"] == \"wikt\"].loc[:,\"map\"].tolist()\n",
    "n = data[data[\"stemmer\"] == \"none\"].loc[:,\"map\"].tolist()\n",
    "print(f\"{stats.ttest_rel(w,n)}\")"
   ]
  },
  {
   "cell_type": "code",
   "execution_count": 81,
   "metadata": {},
   "outputs": [
    {
     "name": "stdout",
     "output_type": "stream",
     "text": [
      "TtestResult(statistic=1.4349971488619413, pvalue=0.15509115665242415, df=82)\n"
     ]
    }
   ],
   "source": [
    "#t-test between krovetz and sStripping (best and worst)\n",
    "k = data[data[\"stemmer\"] == \"krovetz\"].loc[:,\"map\"].tolist()\n",
    "s = data[data[\"stemmer\"] == \"sStripping\"].loc[:,\"map\"].tolist()\n",
    "print(f\"{stats.ttest_rel(k,s)}\")"
   ]
  },
  {
   "cell_type": "code",
   "execution_count": 82,
   "metadata": {},
   "outputs": [
    {
     "name": "stdout",
     "output_type": "stream",
     "text": [
      "TtestResult(statistic=0.4504750935019193, pvalue=0.6535567325942881, df=82)\n"
     ]
    }
   ],
   "source": [
    "#t-test between wikt and porter2\n",
    "w = data[data[\"stemmer\"] == \"wikt\"].loc[:,\"map\"].tolist()\n",
    "p = data[data[\"stemmer\"] == \"porter2\"].loc[:,\"map\"].tolist()\n",
    "print(f\"{stats.ttest_rel(w,p)}\")"
   ]
  }
 ],
 "metadata": {
  "kernelspec": {
   "display_name": "cosc490",
   "language": "python",
   "name": "python3"
  },
  "language_info": {
   "codemirror_mode": {
    "name": "ipython",
    "version": 3
   },
   "file_extension": ".py",
   "mimetype": "text/x-python",
   "name": "python",
   "nbconvert_exporter": "python",
   "pygments_lexer": "ipython3",
   "version": "3.10.11"
  }
 },
 "nbformat": 4,
 "nbformat_minor": 2
}
